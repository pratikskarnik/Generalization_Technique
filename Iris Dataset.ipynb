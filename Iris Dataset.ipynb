{
 "cells": [
  {
   "cell_type": "code",
   "execution_count": 1,
   "metadata": {},
   "outputs": [],
   "source": [
    "# Filtering Warnings\n",
    "import warnings\n",
    "warnings.filterwarnings(\"ignore\")"
   ]
  },
  {
   "cell_type": "code",
   "execution_count": 2,
   "metadata": {},
   "outputs": [],
   "source": [
    "# importing libraires\n",
    "import pandas as pd\n",
    "import numpy as np\n",
    "from sklearn import datasets\n",
    "from sklearn.model_selection import train_test_split\n",
    "from sklearn.svm import SVC\n",
    "from sklearn.metrics import classification_report"
   ]
  },
  {
   "cell_type": "code",
   "execution_count": 3,
   "metadata": {},
   "outputs": [],
   "source": [
    "iris = datasets.load_iris()"
   ]
  },
  {
   "cell_type": "code",
   "execution_count": 4,
   "metadata": {},
   "outputs": [
    {
     "name": "stdout",
     "output_type": "stream",
     "text": [
      "['sepal length (cm)', 'sepal width (cm)', 'petal length (cm)', 'petal width (cm)']\n"
     ]
    }
   ],
   "source": [
    "print(iris.feature_names)"
   ]
  },
  {
   "cell_type": "code",
   "execution_count": 5,
   "metadata": {},
   "outputs": [
    {
     "name": "stdout",
     "output_type": "stream",
     "text": [
      "[0 0 0 0 0 0 0 0 0 0 0 0 0 0 0 0 0 0 0 0 0 0 0 0 0 0 0 0 0 0 0 0 0 0 0 0 0\n",
      " 0 0 0 0 0 0 0 0 0 0 0 0 0 1 1 1 1 1 1 1 1 1 1 1 1 1 1 1 1 1 1 1 1 1 1 1 1\n",
      " 1 1 1 1 1 1 1 1 1 1 1 1 1 1 1 1 1 1 1 1 1 1 1 1 1 1 2 2 2 2 2 2 2 2 2 2 2\n",
      " 2 2 2 2 2 2 2 2 2 2 2 2 2 2 2 2 2 2 2 2 2 2 2 2 2 2 2 2 2 2 2 2 2 2 2 2 2\n",
      " 2 2]\n"
     ]
    }
   ],
   "source": [
    "print(iris.target)"
   ]
  },
  {
   "cell_type": "code",
   "execution_count": 6,
   "metadata": {},
   "outputs": [
    {
     "name": "stdout",
     "output_type": "stream",
     "text": [
      "['setosa' 'versicolor' 'virginica']\n"
     ]
    }
   ],
   "source": [
    "print(iris.target_names)"
   ]
  },
  {
   "cell_type": "code",
   "execution_count": 7,
   "metadata": {},
   "outputs": [],
   "source": [
    "X=iris.data\n",
    "y=iris.target"
   ]
  },
  {
   "cell_type": "code",
   "execution_count": 8,
   "metadata": {},
   "outputs": [
    {
     "data": {
      "text/plain": [
       "(150, 4)"
      ]
     },
     "execution_count": 8,
     "metadata": {},
     "output_type": "execute_result"
    }
   ],
   "source": [
    "X.shape"
   ]
  },
  {
   "cell_type": "code",
   "execution_count": 9,
   "metadata": {},
   "outputs": [
    {
     "data": {
      "text/plain": [
       "(150,)"
      ]
     },
     "execution_count": 9,
     "metadata": {},
     "output_type": "execute_result"
    }
   ],
   "source": [
    "y.shape"
   ]
  },
  {
   "cell_type": "code",
   "execution_count": 10,
   "metadata": {},
   "outputs": [
    {
     "name": "stdout",
     "output_type": "stream",
     "text": [
      "Random_state 0 have train score 96.0% and have test score 100.0%\n",
      "Random_state 6 have train score 95.0% and have test score 100.0%\n",
      "Random_state 9 have train score 98.0% and have test score 100.0%\n",
      "Random_state 13 have train score 98.0% and have test score 100.0%\n",
      "Random_state 15 have train score 98.0% and have test score 100.0%\n",
      "Random_state 18 have train score 96.0% and have test score 100.0%\n",
      "Random_state 19 have train score 97.0% and have test score 100.0%\n",
      "Random_state 20 have train score 96.0% and have test score 100.0%\n",
      "Random_state 24 have train score 96.0% and have test score 100.0%\n",
      "Random_state 26 have train score 94.0% and have test score 97.0%\n",
      "Random_state 30 have train score 96.0% and have test score 100.0%\n",
      "Random_state 32 have train score 96.0% and have test score 97.0%\n",
      "Random_state 34 have train score 97.0% and have test score 100.0%\n",
      "Random_state 35 have train score 97.0% and have test score 100.0%\n",
      "Random_state 37 have train score 95.0% and have test score 97.0%\n",
      "Random_state 38 have train score 98.0% and have test score 100.0%\n",
      "Random_state 40 have train score 98.0% and have test score 100.0%\n",
      "Random_state 42 have train score 98.0% and have test score 100.0%\n",
      "Random_state 44 have train score 95.0% and have test score 97.0%\n",
      "Random_state 45 have train score 96.0% and have test score 97.0%\n",
      "Random_state 47 have train score 96.0% and have test score 100.0%\n",
      "Random_state 57 have train score 94.0% and have test score 100.0%\n",
      "Random_state 59 have train score 96.0% and have test score 100.0%\n",
      "Random_state 63 have train score 98.0% and have test score 100.0%\n",
      "Random_state 69 have train score 96.0% and have test score 97.0%\n",
      "Random_state 70 have train score 98.0% and have test score 100.0%\n",
      "Random_state 72 have train score 97.0% and have test score 100.0%\n",
      "Random_state 74 have train score 98.0% and have test score 100.0%\n",
      "Random_state 75 have train score 97.0% and have test score 100.0%\n",
      "Random_state 81 have train score 98.0% and have test score 100.0%\n",
      "Random_state 84 have train score 94.0% and have test score 100.0%\n",
      "Random_state 85 have train score 95.0% and have test score 100.0%\n",
      "Random_state 86 have train score 98.0% and have test score 100.0%\n",
      "Random_state 88 have train score 95.0% and have test score 100.0%\n",
      "Random_state 90 have train score 96.0% and have test score 97.0%\n",
      "Random_state 91 have train score 97.0% and have test score 100.0%\n",
      "Random_state 93 have train score 97.0% and have test score 100.0%\n"
     ]
    }
   ],
   "source": [
    "# looping through random state 0 to 99\n",
    "scores=[]\n",
    "for i in range(100):\n",
    "    X_train, X_test, y_train, y_test=train_test_split(X,y,test_size=0.2,random_state=i)\n",
    "    model = SVC(C=1.0)\n",
    "    model.fit(X_train,y_train)\n",
    "    train_score = model.score(X_train,y_train)\n",
    "    test_score = model.score(X_test,y_test)\n",
    "    train_score = round(train_score,2)*100\n",
    "    test_score = round(test_score,2)*100\n",
    "    if test_score>train_score:\n",
    "        print(\"Random_state \"+str(i)+\" have train score \"+str(train_score)+\"% and have test score \"\n",
    "              +str(test_score)+\"%\")\n",
    "        scores.append((i,train_score,test_score))"
   ]
  },
  {
   "cell_type": "code",
   "execution_count": 11,
   "metadata": {},
   "outputs": [],
   "source": [
    "# sorting descending by test score\n",
    "scores.sort(reverse=True,key=lambda x: x[2])"
   ]
  },
  {
   "cell_type": "code",
   "execution_count": 12,
   "metadata": {},
   "outputs": [
    {
     "data": {
      "text/plain": [
       "[(0, 96.0, 100.0),\n",
       " (6, 95.0, 100.0),\n",
       " (9, 98.0, 100.0),\n",
       " (13, 98.0, 100.0),\n",
       " (15, 98.0, 100.0),\n",
       " (18, 96.0, 100.0),\n",
       " (19, 97.0, 100.0),\n",
       " (20, 96.0, 100.0),\n",
       " (24, 96.0, 100.0),\n",
       " (30, 96.0, 100.0)]"
      ]
     },
     "execution_count": 12,
     "metadata": {},
     "output_type": "execute_result"
    }
   ],
   "source": [
    "scores[:10]"
   ]
  },
  {
   "cell_type": "code",
   "execution_count": 13,
   "metadata": {},
   "outputs": [
    {
     "name": "stdout",
     "output_type": "stream",
     "text": [
      "              precision    recall  f1-score   support\n",
      "\n",
      "      setosa       1.00      1.00      1.00        11\n",
      "  versicolor       1.00      1.00      1.00        13\n",
      "   virginica       1.00      1.00      1.00         6\n",
      "\n",
      "    accuracy                           1.00        30\n",
      "   macro avg       1.00      1.00      1.00        30\n",
      "weighted avg       1.00      1.00      1.00        30\n",
      "\n"
     ]
    }
   ],
   "source": [
    "# Showing model performance\n",
    "X_train, X_test, y_train, y_test=train_test_split(X,y,test_size=0.2,random_state=0)\n",
    "model = SVC(C=1.0)\n",
    "model.fit(X_train,y_train)\n",
    "y_pred=model.predict(X_test)\n",
    "report=classification_report(y_pred,y_test,target_names=iris.target_names)\n",
    "print(report)"
   ]
  }
 ],
 "metadata": {
  "kernelspec": {
   "display_name": "Python 3",
   "language": "python",
   "name": "python3"
  },
  "language_info": {
   "codemirror_mode": {
    "name": "ipython",
    "version": 3
   },
   "file_extension": ".py",
   "mimetype": "text/x-python",
   "name": "python",
   "nbconvert_exporter": "python",
   "pygments_lexer": "ipython3",
   "version": "3.7.6"
  }
 },
 "nbformat": 4,
 "nbformat_minor": 4
}
